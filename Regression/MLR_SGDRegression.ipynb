{
 "cells": [
  {
   "cell_type": "markdown",
   "metadata": {},
   "source": [
    "# SGD Regression"
   ]
  },
  {
   "cell_type": "markdown",
   "metadata": {},
   "source": [
    "Let's dive into **SGDRegressor** — a powerful and flexible regression model that uses **Stochastic Gradient Descent** to optimize the weights. We'll cover intuition, math, practical use, pros & cons, and examples.\n",
    "\n",
    "---\n",
    "\n",
    "## 🌟 What is SGDRegressor?\n",
    "\n",
    "`SGDRegressor` is a **linear model** optimized using **Stochastic Gradient Descent (SGD)**, a fast and scalable optimization algorithm that updates model weights incrementally per sample or mini-batch.\n",
    "\n",
    "It is part of `sklearn.linear_model`.\n",
    "\n",
    "---\n",
    "\n",
    "## 🧠 Intuition Behind Stochastic Gradient Descent\n",
    "\n",
    "- In **regular gradient descent**, we calculate gradients using the **entire training dataset** → accurate but slow for large data.\n",
    "- In **SGD**, we update weights using **one training sample at a time** (or a mini-batch) → faster but noisier.\n",
    "- Over time, these noisy updates converge (with proper tuning) to a **minimum** of the loss function.\n",
    "\n",
    "---\n",
    "\n",
    "## 🧮 Objective Function\n",
    "\n",
    "SGDRegressor minimizes a **regularized loss function**:\n",
    "\n",
    "$\n",
    "\\text{Objective:} \\quad \\min_{w} \\ \\frac{1}{n} \\sum_{i=1}^{n} L(y_i, \\hat{y}_i) + \\alpha R(w)\n",
    "$\n",
    "\n",
    "Where:\n",
    "- $ L(y_i, \\hat{y}_i) $: Loss function (default: squared loss)\n",
    "- $ R(w) $: Regularization term (e.g., L1 or L2)\n",
    "- $ \\alpha $: Regularization strength\n",
    "\n",
    "---\n",
    "\n",
    "## 🎯 Supported Loss Functions\n",
    "\n",
    "You can choose the loss function using `loss` parameter:\n",
    "\n",
    "| Loss         | Description                      |\n",
    "|--------------|----------------------------------|\n",
    "| `'squared_error'` | Ordinary Least Squares        |\n",
    "| `'huber'`     | Huber loss (robust to outliers) |\n",
    "| `'epsilon_insensitive'` | Used in SVR            |\n",
    "| `'squared_epsilon_insensitive'` | Variant of SVR |\n",
    "\n",
    "---\n",
    "\n",
    "## 🛡️ Regularization\n",
    "\n",
    "`SGDRegressor` supports:\n",
    "\n",
    "| Penalty     | Description       |\n",
    "|-------------|-------------------|\n",
    "| `'l2'`      | Ridge             |\n",
    "| `'l1'`      | Lasso             |\n",
    "| `'elasticnet'` | L1 + L2 combo  |\n",
    "\n",
    "So `SGDRegressor` can behave like **Ridge, Lasso, or ElasticNet**, but optimized with SGD.\n",
    "\n",
    "---\n",
    "\n",
    "## 🔧 Important Parameters\n",
    "\n",
    "| Parameter        | Meaning |\n",
    "|------------------|---------|\n",
    "| `loss`           | Loss function (`'squared_error'`, `'huber'`, etc.) |\n",
    "| `penalty`        | Regularization type (`'l2'`, `'l1'`, `'elasticnet'`) |\n",
    "| `alpha`          | Regularization strength (default: `0.0001`) |\n",
    "| `max_iter`       | Maximum number of iterations |\n",
    "| `tol`            | Tolerance to declare convergence |\n",
    "| `learning_rate`  | `'constant'`, `'invscaling'`, `'adaptive'` |\n",
    "| `eta0`           | Initial learning rate (used when learning_rate is `'constant'` or `'adaptive'`) |\n",
    "| `early_stopping` | Stop training when validation score doesn’t improve |\n",
    "\n",
    "---\n",
    "\n",
    "## ✅ Pros and ❌ Cons\n",
    "\n",
    "### ✅ Pros:\n",
    "- **Fast and memory efficient**\n",
    "- Good for **large-scale data**\n",
    "- Supports various **losses and penalties**\n",
    "- Can **stream in batches** (online learning)\n",
    "\n",
    "### ❌ Cons:\n",
    "- Requires **careful tuning** of hyperparameters (like learning rate)\n",
    "- **Sensitive to feature scaling**\n",
    "- Can **oscillate** if not tuned properly\n",
    "\n",
    "---\n",
    "\n",
    "## 🧠 When to Use `SGDRegressor`?\n",
    "\n",
    "Use it when:\n",
    "- You have **very large datasets**\n",
    "- You want to use **online learning** (incremental updates)\n",
    "- You need **speed over precision**\n",
    "- You're comfortable tuning hyperparameters\n",
    "\n",
    "---\n",
    "\n",
    "## 🧪 Tips for Good Performance\n",
    "\n",
    "- Always **scale** your features!\n",
    "- Tune `alpha`, `learning_rate`, and `eta0`\n",
    "- Try different `loss` functions (`'huber'` is good for noisy data)\n",
    "- Enable `early_stopping=True` if using a validation set"
   ]
  },
  {
   "cell_type": "code",
   "execution_count": 1,
   "metadata": {},
   "outputs": [],
   "source": [
    "# import necessary libraries \n",
    "import pandas as pd \n",
    "import numpy as np\n",
    "import matplotlib.pyplot as plt \n",
    "import seaborn as sns\n",
    "\n",
    "%matplotlib inline"
   ]
  },
  {
   "cell_type": "code",
   "execution_count": 2,
   "metadata": {},
   "outputs": [
    {
     "data": {
      "text/html": [
       "<div>\n",
       "<style scoped>\n",
       "    .dataframe tbody tr th:only-of-type {\n",
       "        vertical-align: middle;\n",
       "    }\n",
       "\n",
       "    .dataframe tbody tr th {\n",
       "        vertical-align: top;\n",
       "    }\n",
       "\n",
       "    .dataframe thead th {\n",
       "        text-align: right;\n",
       "    }\n",
       "</style>\n",
       "<table border=\"1\" class=\"dataframe\">\n",
       "  <thead>\n",
       "    <tr style=\"text-align: right;\">\n",
       "      <th></th>\n",
       "      <th>car_ID</th>\n",
       "      <th>symboling</th>\n",
       "      <th>CarName</th>\n",
       "      <th>fueltype</th>\n",
       "      <th>aspiration</th>\n",
       "      <th>doornumber</th>\n",
       "      <th>carbody</th>\n",
       "      <th>drivewheel</th>\n",
       "      <th>enginelocation</th>\n",
       "      <th>wheelbase</th>\n",
       "      <th>...</th>\n",
       "      <th>enginesize</th>\n",
       "      <th>fuelsystem</th>\n",
       "      <th>boreratio</th>\n",
       "      <th>stroke</th>\n",
       "      <th>compressionratio</th>\n",
       "      <th>horsepower</th>\n",
       "      <th>peakrpm</th>\n",
       "      <th>citympg</th>\n",
       "      <th>highwaympg</th>\n",
       "      <th>price</th>\n",
       "    </tr>\n",
       "  </thead>\n",
       "  <tbody>\n",
       "    <tr>\n",
       "      <th>0</th>\n",
       "      <td>1</td>\n",
       "      <td>3</td>\n",
       "      <td>alfa-romero giulia</td>\n",
       "      <td>gas</td>\n",
       "      <td>std</td>\n",
       "      <td>two</td>\n",
       "      <td>convertible</td>\n",
       "      <td>rwd</td>\n",
       "      <td>front</td>\n",
       "      <td>88.6</td>\n",
       "      <td>...</td>\n",
       "      <td>130</td>\n",
       "      <td>mpfi</td>\n",
       "      <td>3.47</td>\n",
       "      <td>2.68</td>\n",
       "      <td>9.0</td>\n",
       "      <td>111</td>\n",
       "      <td>5000</td>\n",
       "      <td>21</td>\n",
       "      <td>27</td>\n",
       "      <td>13495.0</td>\n",
       "    </tr>\n",
       "    <tr>\n",
       "      <th>1</th>\n",
       "      <td>2</td>\n",
       "      <td>3</td>\n",
       "      <td>alfa-romero stelvio</td>\n",
       "      <td>gas</td>\n",
       "      <td>std</td>\n",
       "      <td>two</td>\n",
       "      <td>convertible</td>\n",
       "      <td>rwd</td>\n",
       "      <td>front</td>\n",
       "      <td>88.6</td>\n",
       "      <td>...</td>\n",
       "      <td>130</td>\n",
       "      <td>mpfi</td>\n",
       "      <td>3.47</td>\n",
       "      <td>2.68</td>\n",
       "      <td>9.0</td>\n",
       "      <td>111</td>\n",
       "      <td>5000</td>\n",
       "      <td>21</td>\n",
       "      <td>27</td>\n",
       "      <td>16500.0</td>\n",
       "    </tr>\n",
       "    <tr>\n",
       "      <th>2</th>\n",
       "      <td>3</td>\n",
       "      <td>1</td>\n",
       "      <td>alfa-romero Quadrifoglio</td>\n",
       "      <td>gas</td>\n",
       "      <td>std</td>\n",
       "      <td>two</td>\n",
       "      <td>hatchback</td>\n",
       "      <td>rwd</td>\n",
       "      <td>front</td>\n",
       "      <td>94.5</td>\n",
       "      <td>...</td>\n",
       "      <td>152</td>\n",
       "      <td>mpfi</td>\n",
       "      <td>2.68</td>\n",
       "      <td>3.47</td>\n",
       "      <td>9.0</td>\n",
       "      <td>154</td>\n",
       "      <td>5000</td>\n",
       "      <td>19</td>\n",
       "      <td>26</td>\n",
       "      <td>16500.0</td>\n",
       "    </tr>\n",
       "    <tr>\n",
       "      <th>3</th>\n",
       "      <td>4</td>\n",
       "      <td>2</td>\n",
       "      <td>audi 100 ls</td>\n",
       "      <td>gas</td>\n",
       "      <td>std</td>\n",
       "      <td>four</td>\n",
       "      <td>sedan</td>\n",
       "      <td>fwd</td>\n",
       "      <td>front</td>\n",
       "      <td>99.8</td>\n",
       "      <td>...</td>\n",
       "      <td>109</td>\n",
       "      <td>mpfi</td>\n",
       "      <td>3.19</td>\n",
       "      <td>3.40</td>\n",
       "      <td>10.0</td>\n",
       "      <td>102</td>\n",
       "      <td>5500</td>\n",
       "      <td>24</td>\n",
       "      <td>30</td>\n",
       "      <td>13950.0</td>\n",
       "    </tr>\n",
       "    <tr>\n",
       "      <th>4</th>\n",
       "      <td>5</td>\n",
       "      <td>2</td>\n",
       "      <td>audi 100ls</td>\n",
       "      <td>gas</td>\n",
       "      <td>std</td>\n",
       "      <td>four</td>\n",
       "      <td>sedan</td>\n",
       "      <td>4wd</td>\n",
       "      <td>front</td>\n",
       "      <td>99.4</td>\n",
       "      <td>...</td>\n",
       "      <td>136</td>\n",
       "      <td>mpfi</td>\n",
       "      <td>3.19</td>\n",
       "      <td>3.40</td>\n",
       "      <td>8.0</td>\n",
       "      <td>115</td>\n",
       "      <td>5500</td>\n",
       "      <td>18</td>\n",
       "      <td>22</td>\n",
       "      <td>17450.0</td>\n",
       "    </tr>\n",
       "  </tbody>\n",
       "</table>\n",
       "<p>5 rows × 26 columns</p>\n",
       "</div>"
      ],
      "text/plain": [
       "   car_ID  symboling                   CarName fueltype aspiration doornumber  \\\n",
       "0       1          3        alfa-romero giulia      gas        std        two   \n",
       "1       2          3       alfa-romero stelvio      gas        std        two   \n",
       "2       3          1  alfa-romero Quadrifoglio      gas        std        two   \n",
       "3       4          2               audi 100 ls      gas        std       four   \n",
       "4       5          2                audi 100ls      gas        std       four   \n",
       "\n",
       "       carbody drivewheel enginelocation  wheelbase  ...  enginesize  \\\n",
       "0  convertible        rwd          front       88.6  ...         130   \n",
       "1  convertible        rwd          front       88.6  ...         130   \n",
       "2    hatchback        rwd          front       94.5  ...         152   \n",
       "3        sedan        fwd          front       99.8  ...         109   \n",
       "4        sedan        4wd          front       99.4  ...         136   \n",
       "\n",
       "   fuelsystem  boreratio  stroke compressionratio horsepower  peakrpm citympg  \\\n",
       "0        mpfi       3.47    2.68              9.0        111     5000      21   \n",
       "1        mpfi       3.47    2.68              9.0        111     5000      21   \n",
       "2        mpfi       2.68    3.47              9.0        154     5000      19   \n",
       "3        mpfi       3.19    3.40             10.0        102     5500      24   \n",
       "4        mpfi       3.19    3.40              8.0        115     5500      18   \n",
       "\n",
       "   highwaympg    price  \n",
       "0          27  13495.0  \n",
       "1          27  16500.0  \n",
       "2          26  16500.0  \n",
       "3          30  13950.0  \n",
       "4          22  17450.0  \n",
       "\n",
       "[5 rows x 26 columns]"
      ]
     },
     "execution_count": 2,
     "metadata": {},
     "output_type": "execute_result"
    }
   ],
   "source": [
    "# load the dataset\n",
    "car_data = pd.read_csv('../Data/CarPrice_Assignment.csv')\n",
    "car_data.head()"
   ]
  },
  {
   "cell_type": "code",
   "execution_count": 3,
   "metadata": {},
   "outputs": [
    {
     "name": "stdout",
     "output_type": "stream",
     "text": [
      "<class 'pandas.core.frame.DataFrame'>\n",
      "RangeIndex: 205 entries, 0 to 204\n",
      "Data columns (total 26 columns):\n",
      " #   Column            Non-Null Count  Dtype  \n",
      "---  ------            --------------  -----  \n",
      " 0   car_ID            205 non-null    int64  \n",
      " 1   symboling         205 non-null    int64  \n",
      " 2   CarName           205 non-null    object \n",
      " 3   fueltype          205 non-null    object \n",
      " 4   aspiration        205 non-null    object \n",
      " 5   doornumber        205 non-null    object \n",
      " 6   carbody           205 non-null    object \n",
      " 7   drivewheel        205 non-null    object \n",
      " 8   enginelocation    205 non-null    object \n",
      " 9   wheelbase         205 non-null    float64\n",
      " 10  carlength         205 non-null    float64\n",
      " 11  carwidth          205 non-null    float64\n",
      " 12  carheight         205 non-null    float64\n",
      " 13  curbweight        205 non-null    int64  \n",
      " 14  enginetype        205 non-null    object \n",
      " 15  cylindernumber    205 non-null    object \n",
      " 16  enginesize        205 non-null    int64  \n",
      " 17  fuelsystem        205 non-null    object \n",
      " 18  boreratio         205 non-null    float64\n",
      " 19  stroke            205 non-null    float64\n",
      " 20  compressionratio  205 non-null    float64\n",
      " 21  horsepower        205 non-null    int64  \n",
      " 22  peakrpm           205 non-null    int64  \n",
      " 23  citympg           205 non-null    int64  \n",
      " 24  highwaympg        205 non-null    int64  \n",
      " 25  price             205 non-null    float64\n",
      "dtypes: float64(8), int64(8), object(10)\n",
      "memory usage: 41.8+ KB\n"
     ]
    }
   ],
   "source": [
    "car_data.info()"
   ]
  },
  {
   "cell_type": "code",
   "execution_count": 6,
   "metadata": {},
   "outputs": [
    {
     "data": {
      "text/plain": [
       "{'CarName': 147,\n",
       " 'fueltype': 2,\n",
       " 'aspiration': 2,\n",
       " 'doornumber': 2,\n",
       " 'carbody': 5,\n",
       " 'drivewheel': 3,\n",
       " 'enginelocation': 2,\n",
       " 'enginetype': 7,\n",
       " 'cylindernumber': 7,\n",
       " 'fuelsystem': 8}"
      ]
     },
     "execution_count": 6,
     "metadata": {},
     "output_type": "execute_result"
    }
   ],
   "source": [
    "# let us look at the unique set of values for each category\n",
    "unique_values = {}\n",
    "\n",
    "category_cols = car_data.select_dtypes(include=['O']).columns.tolist()\n",
    "for col in category_cols:\n",
    "    unique_values[col] = car_data[col].nunique()\n",
    "    \n",
    "unique_values\n"
   ]
  },
  {
   "cell_type": "markdown",
   "metadata": {},
   "source": [
    "I find that except the feature `CarName` , all others have number of unique values less than 10. Also these values, do represent some properties of the car and can be helpful in predicting the price fpr each car. However, the name of a car does not seem to be a necessary variable to predict price of cars. "
   ]
  },
  {
   "cell_type": "code",
   "execution_count": null,
   "metadata": {},
   "outputs": [
    {
     "data": {
      "text/plain": [
       "6"
      ]
     },
     "execution_count": 8,
     "metadata": {},
     "output_type": "execute_result"
    }
   ],
   "source": [
    "# symboling seems to be a categorical variable coded as numerical variable \n",
    "car_data['symboling'].astype('O').nunique()"
   ]
  },
  {
   "cell_type": "code",
   "execution_count": 13,
   "metadata": {},
   "outputs": [
    {
     "data": {
      "text/plain": [
       "dtype('O')"
      ]
     },
     "execution_count": 13,
     "metadata": {},
     "output_type": "execute_result"
    }
   ],
   "source": [
    "# convert numerical to object\n",
    "car_data['symboling'] = car_data['symboling'].astype('O')\n",
    "car_data['symboling'].dtype"
   ]
  },
  {
   "cell_type": "code",
   "execution_count": 15,
   "metadata": {},
   "outputs": [
    {
     "data": {
      "text/plain": [
       "Index(['symboling', 'fueltype', 'aspiration', 'doornumber', 'carbody',\n",
       "       'drivewheel', 'enginelocation', 'wheelbase', 'carlength', 'carwidth',\n",
       "       'carheight', 'curbweight', 'enginetype', 'cylindernumber', 'enginesize',\n",
       "       'fuelsystem', 'boreratio', 'stroke', 'compressionratio', 'horsepower',\n",
       "       'peakrpm', 'citympg', 'highwaympg', 'price'],\n",
       "      dtype='object')"
      ]
     },
     "execution_count": 15,
     "metadata": {},
     "output_type": "execute_result"
    }
   ],
   "source": [
    "# let us create the final dataset to be used for prediction\n",
    "car_data.drop(columns=['car_ID', 'CarName'], inplace=True)\n",
    "car_data.columns"
   ]
  },
  {
   "cell_type": "code",
   "execution_count": 23,
   "metadata": {},
   "outputs": [
    {
     "data": {
      "text/plain": [
       "{'symboling': {'nunique': 6, 'unique values': [3, 1, 2, 0, -1, -2]},\n",
       " 'fueltype': {'nunique': 2, 'unique values': ['gas', 'diesel']},\n",
       " 'aspiration': {'nunique': 2, 'unique values': ['std', 'turbo']},\n",
       " 'doornumber': {'nunique': 2, 'unique values': ['two', 'four']},\n",
       " 'carbody': {'nunique': 5,\n",
       "  'unique values': ['convertible', 'hatchback', 'sedan', 'wagon', 'hardtop']},\n",
       " 'drivewheel': {'nunique': 3, 'unique values': ['rwd', 'fwd', '4wd']},\n",
       " 'enginelocation': {'nunique': 2, 'unique values': ['front', 'rear']},\n",
       " 'enginetype': {'nunique': 7,\n",
       "  'unique values': ['dohc', 'ohcv', 'ohc', 'l', 'rotor', 'ohcf', 'dohcv']},\n",
       " 'cylindernumber': {'nunique': 7,\n",
       "  'unique values': ['four', 'six', 'five', 'three', 'twelve', 'two', 'eight']},\n",
       " 'fuelsystem': {'nunique': 8,\n",
       "  'unique values': ['mpfi',\n",
       "   '2bbl',\n",
       "   'mfi',\n",
       "   '1bbl',\n",
       "   'spfi',\n",
       "   '4bbl',\n",
       "   'idi',\n",
       "   'spdi']}}"
      ]
     },
     "execution_count": 23,
     "metadata": {},
     "output_type": "execute_result"
    }
   ],
   "source": [
    "# let us now see the categrories for each category separately\n",
    "\n",
    "unique_cat = {}\n",
    "\n",
    "category_cols = car_data.select_dtypes(include=['O']).columns.tolist()\n",
    "for col in category_cols:\n",
    "    unique_cat[col] = {\n",
    "        'nunique': car_data[col].nunique(),\n",
    "        'unique values': [cat for cat in car_data[col].unique()]\n",
    "        }\n",
    "    \n",
    "unique_cat"
   ]
  },
  {
   "cell_type": "code",
   "execution_count": 24,
   "metadata": {},
   "outputs": [
    {
     "data": {
      "text/plain": [
       "['wheelbase',\n",
       " 'carlength',\n",
       " 'carwidth',\n",
       " 'carheight',\n",
       " 'curbweight',\n",
       " 'enginesize',\n",
       " 'boreratio',\n",
       " 'stroke',\n",
       " 'compressionratio',\n",
       " 'horsepower',\n",
       " 'peakrpm',\n",
       " 'citympg',\n",
       " 'highwaympg',\n",
       " 'price']"
      ]
     },
     "execution_count": 24,
     "metadata": {},
     "output_type": "execute_result"
    }
   ],
   "source": [
    "# let us separate out the numeric cols \n",
    "numeric_cols = car_data.select_dtypes(include=['number']).columns.tolist()\n",
    "numeric_cols"
   ]
  },
  {
   "cell_type": "code",
   "execution_count": null,
   "metadata": {},
   "outputs": [],
   "source": []
  }
 ],
 "metadata": {
  "kernelspec": {
   "display_name": "Python 3",
   "language": "python",
   "name": "python3"
  },
  "language_info": {
   "codemirror_mode": {
    "name": "ipython",
    "version": 3
   },
   "file_extension": ".py",
   "mimetype": "text/x-python",
   "name": "python",
   "nbconvert_exporter": "python",
   "pygments_lexer": "ipython3",
   "version": "3.13.2"
  }
 },
 "nbformat": 4,
 "nbformat_minor": 2
}

{
 "cells": [
  {
   "cell_type": "markdown",
   "metadata": {},
   "source": [
    "# Data Preprocessing Tools"
   ]
  },
  {
   "cell_type": "code",
   "execution_count": 2,
   "metadata": {},
   "outputs": [],
   "source": [
    "# import libraries \n",
    "import numpy as np\n",
    "import matplotlib.pyplot as plt \n",
    "import pandas as pd \n",
    "import seaborn as sns \n",
    "%matplotlib inline"
   ]
  },
  {
   "cell_type": "code",
   "execution_count": 3,
   "metadata": {},
   "outputs": [
    {
     "data": {
      "text/html": [
       "<div>\n",
       "<style scoped>\n",
       "    .dataframe tbody tr th:only-of-type {\n",
       "        vertical-align: middle;\n",
       "    }\n",
       "\n",
       "    .dataframe tbody tr th {\n",
       "        vertical-align: top;\n",
       "    }\n",
       "\n",
       "    .dataframe thead th {\n",
       "        text-align: right;\n",
       "    }\n",
       "</style>\n",
       "<table border=\"1\" class=\"dataframe\">\n",
       "  <thead>\n",
       "    <tr style=\"text-align: right;\">\n",
       "      <th></th>\n",
       "      <th>Country</th>\n",
       "      <th>Age</th>\n",
       "      <th>Salary</th>\n",
       "      <th>Purchased</th>\n",
       "    </tr>\n",
       "  </thead>\n",
       "  <tbody>\n",
       "    <tr>\n",
       "      <th>0</th>\n",
       "      <td>Germany</td>\n",
       "      <td>NaN</td>\n",
       "      <td>NaN</td>\n",
       "      <td>No</td>\n",
       "    </tr>\n",
       "    <tr>\n",
       "      <th>1</th>\n",
       "      <td>Germany</td>\n",
       "      <td>NaN</td>\n",
       "      <td>NaN</td>\n",
       "      <td>Yes</td>\n",
       "    </tr>\n",
       "    <tr>\n",
       "      <th>2</th>\n",
       "      <td>Germany</td>\n",
       "      <td>43.0</td>\n",
       "      <td>67611.0</td>\n",
       "      <td>Yes</td>\n",
       "    </tr>\n",
       "    <tr>\n",
       "      <th>3</th>\n",
       "      <td>Germany</td>\n",
       "      <td>37.0</td>\n",
       "      <td>NaN</td>\n",
       "      <td>Yes</td>\n",
       "    </tr>\n",
       "    <tr>\n",
       "      <th>4</th>\n",
       "      <td>Spain</td>\n",
       "      <td>55.0</td>\n",
       "      <td>NaN</td>\n",
       "      <td>Yes</td>\n",
       "    </tr>\n",
       "  </tbody>\n",
       "</table>\n",
       "</div>"
      ],
      "text/plain": [
       "   Country   Age   Salary Purchased\n",
       "0  Germany   NaN      NaN        No\n",
       "1  Germany   NaN      NaN       Yes\n",
       "2  Germany  43.0  67611.0       Yes\n",
       "3  Germany  37.0      NaN       Yes\n",
       "4    Spain  55.0      NaN       Yes"
      ]
     },
     "execution_count": 3,
     "metadata": {},
     "output_type": "execute_result"
    }
   ],
   "source": [
    "# import the data \n",
    "data = pd.read_csv('../Data/Purchase.csv')\n",
    "data.head()"
   ]
  },
  {
   "cell_type": "code",
   "execution_count": 19,
   "metadata": {},
   "outputs": [
    {
     "name": "stdout",
     "output_type": "stream",
     "text": [
      "<class 'pandas.core.frame.DataFrame'>\n",
      "RangeIndex: 200 entries, 0 to 199\n",
      "Data columns (total 4 columns):\n",
      " #   Column     Non-Null Count  Dtype  \n",
      "---  ------     --------------  -----  \n",
      " 0   Country    200 non-null    object \n",
      " 1   Age        110 non-null    float64\n",
      " 2   Salary     103 non-null    float64\n",
      " 3   Purchased  200 non-null    object \n",
      "dtypes: float64(2), object(2)\n",
      "memory usage: 6.4+ KB\n"
     ]
    }
   ],
   "source": [
    "data.info()"
   ]
  },
  {
   "cell_type": "markdown",
   "metadata": {},
   "source": [
    "The features are `Country`, `Age`, `Salary` and the dependent variable is `Purchased`"
   ]
  },
  {
   "cell_type": "code",
   "execution_count": 23,
   "metadata": {},
   "outputs": [
    {
     "data": {
      "text/plain": [
       "((200, 3), (200,))"
      ]
     },
     "execution_count": 23,
     "metadata": {},
     "output_type": "execute_result"
    }
   ],
   "source": [
    "# separate the features from the dependent variable and convert to NumPy array\n",
    "X = data.iloc[:, :-1].values\n",
    "y = data.iloc[:,-1].values\n",
    "\n",
    "# shape \n",
    "X.shape, y.shape"
   ]
  },
  {
   "cell_type": "code",
   "execution_count": 24,
   "metadata": {},
   "outputs": [
    {
     "data": {
      "text/plain": [
       "array([['Germany', nan, nan],\n",
       "       ['Germany', nan, nan],\n",
       "       ['Germany', 43.0, 67611.0],\n",
       "       ['Germany', 37.0, nan],\n",
       "       ['Spain', 55.0, nan],\n",
       "       ['Spain', 25.0, 58058.0],\n",
       "       ['Spain', 40.0, 62617.0],\n",
       "       ['France', 36.0, nan],\n",
       "       ['Spain', nan, nan],\n",
       "       ['Spain', nan, 42394.0],\n",
       "       ['Germany', nan, nan],\n",
       "       ['France', nan, nan],\n",
       "       ['France', 50.0, 61711.0],\n",
       "       ['Germany', nan, nan],\n",
       "       ['France', 59.0, 47686.0],\n",
       "       ['France', nan, 41322.0],\n",
       "       ['France', 33.0, 82755.0],\n",
       "       ['Germany', 37.0, nan],\n",
       "       ['Spain', nan, nan],\n",
       "       ['Germany', 58.0, nan],\n",
       "       ['Spain', 35.0, nan],\n",
       "       ['Germany', 54.0, nan],\n",
       "       ['Germany', 41.0, 82872.0],\n",
       "       ['Germany', 35.0, 81562.0],\n",
       "       ['Germany', nan, 80776.0],\n",
       "       ['France', nan, nan],\n",
       "       ['Spain', nan, nan],\n",
       "       ['France', 57.0, 48931.0],\n",
       "       ['France', 60.0, 63567.0],\n",
       "       ['France', 32.0, 51600.0],\n",
       "       ['France', 37.0, 67000.0],\n",
       "       ['France', nan, nan],\n",
       "       ['France', 27.0, 54332.0],\n",
       "       ['Germany', nan, 58736.0],\n",
       "       ['France', 25.0, 83397.0],\n",
       "       ['Germany', 34.0, 62520.0],\n",
       "       ['France', 30.0, nan],\n",
       "       ['France', nan, 62132.0],\n",
       "       ['Germany', nan, nan],\n",
       "       ['Spain', nan, nan],\n",
       "       ['Spain', nan, 50560.0],\n",
       "       ['Germany', 59.0, nan],\n",
       "       ['Spain', nan, 43369.0],\n",
       "       ['Germany', 47.0, nan],\n",
       "       ['Spain', 54.0, nan],\n",
       "       ['Spain', 31.0, nan],\n",
       "       ['Spain', nan, 86787.0],\n",
       "       ['Germany', nan, 74671.0],\n",
       "       ['Spain', nan, nan],\n",
       "       ['France', nan, 49154.0],\n",
       "       ['France', nan, 81400.0],\n",
       "       ['France', 45.0, nan],\n",
       "       ['France', 35.0, 58000.0],\n",
       "       ['France', 38.0, nan],\n",
       "       ['Germany', 35.0, 86160.0],\n",
       "       ['Germany', nan, nan],\n",
       "       ['Germany', 33.0, nan],\n",
       "       ['France', 56.0, nan],\n",
       "       ['Spain', 48.0, nan],\n",
       "       ['Germany', nan, 52198.0],\n",
       "       ['France', nan, 50147.0],\n",
       "       ['Spain', nan, 87085.0],\n",
       "       ['France', nan, 42176.0],\n",
       "       ['Germany', 25.0, 77241.0],\n",
       "       ['Germany', nan, nan],\n",
       "       ['Germany', nan, nan],\n",
       "       ['France', nan, 77015.0],\n",
       "       ['Germany', 44.0, 51201.0],\n",
       "       ['Germany', 31.0, 73369.0],\n",
       "       ['France', nan, nan],\n",
       "       ['Germany', 29.0, nan],\n",
       "       ['Germany', 44.0, nan],\n",
       "       ['Germany', 43.0, 82774.0],\n",
       "       ['Spain', nan, 47193.0],\n",
       "       ['Spain', 45.0, nan],\n",
       "       ['Spain', nan, 47672.0],\n",
       "       ['Spain', 55.0, 61809.0],\n",
       "       ['France', 55.0, 53139.0],\n",
       "       ['Germany', 37.0, nan],\n",
       "       ['Spain', nan, 85440.0],\n",
       "       ['Germany', 30.0, 54000.0],\n",
       "       ['Germany', 40.0, nan],\n",
       "       ['Spain', 31.0, 76556.0],\n",
       "       ['Germany', nan, nan],\n",
       "       ['France', nan, 63807.0],\n",
       "       ['France', nan, nan],\n",
       "       ['France', 52.0, 60955.0],\n",
       "       ['France', 48.0, 49122.0],\n",
       "       ['France', 31.0, 75310.0],\n",
       "       ['France', 27.0, nan],\n",
       "       ['Germany', 52.0, nan],\n",
       "       ['France', 44.0, 52943.0],\n",
       "       ['France', nan, nan],\n",
       "       ['Germany', 35.0, nan],\n",
       "       ['Germany', nan, 41121.0],\n",
       "       ['France', nan, 78776.0],\n",
       "       ['Spain', nan, 59917.0],\n",
       "       ['Spain', nan, 52000.0],\n",
       "       ['France', 32.0, nan],\n",
       "       ['France', nan, nan],\n",
       "       ['Germany', 40.0, nan],\n",
       "       ['Germany', 25.0, nan],\n",
       "       ['Germany', 47.0, nan],\n",
       "       ['Germany', 32.0, nan],\n",
       "       ['France', nan, nan],\n",
       "       ['Germany', nan, 70813.0],\n",
       "       ['France', nan, nan],\n",
       "       ['Germany', 55.0, 82324.0],\n",
       "       ['Spain', nan, nan],\n",
       "       ['Spain', 26.0, 77940.0],\n",
       "       ['Spain', 45.0, nan],\n",
       "       ['France', 44.0, 72000.0],\n",
       "       ['Germany', nan, nan],\n",
       "       ['Spain', 38.0, nan],\n",
       "       ['Spain', 42.0, 67795.0],\n",
       "       ['France', 44.0, 61248.0],\n",
       "       ['Spain', 58.0, 61710.0],\n",
       "       ['Germany', 25.0, nan],\n",
       "       ['Germany', nan, nan],\n",
       "       ['France', 58.0, nan],\n",
       "       ['Spain', nan, 50679.0],\n",
       "       ['Spain', 39.0, nan],\n",
       "       ['France', 30.0, 62101.0],\n",
       "       ['Germany', 35.0, nan],\n",
       "       ['France', nan, 66211.0],\n",
       "       ['Germany', 26.0, 61877.0],\n",
       "       ['Germany', nan, nan],\n",
       "       ['Germany', 26.0, 70977.0],\n",
       "       ['Spain', 54.0, 59168.0],\n",
       "       ['Spain', 50.0, nan],\n",
       "       ['Spain', 46.0, 65378.0],\n",
       "       ['Spain', nan, 80469.0],\n",
       "       ['Germany', 45.0, nan],\n",
       "       ['Spain', 53.0, nan],\n",
       "       ['France', nan, 67608.0],\n",
       "       ['Germany', nan, 57451.0],\n",
       "       ['Spain', 38.0, 61000.0],\n",
       "       ['Germany', nan, nan],\n",
       "       ['Spain', 51.0, 62477.0],\n",
       "       ['France', 25.0, nan],\n",
       "       ['France', 33.0, 79552.0],\n",
       "       ['Spain', nan, nan],\n",
       "       ['Germany', 42.0, nan],\n",
       "       ['Spain', nan, nan],\n",
       "       ['Spain', nan, nan],\n",
       "       ['Germany', nan, 56052.0],\n",
       "       ['France', 48.0, 79000.0],\n",
       "       ['Spain', nan, nan],\n",
       "       ['France', nan, nan],\n",
       "       ['Spain', 53.0, nan],\n",
       "       ['Spain', nan, 61390.0],\n",
       "       ['Spain', 35.0, nan],\n",
       "       ['Spain', 46.0, nan],\n",
       "       ['Germany', 50.0, 83000.0],\n",
       "       ['Germany', 54.0, 85983.0],\n",
       "       ['France', nan, 60834.0],\n",
       "       ['Germany', nan, nan],\n",
       "       ['France', 32.0, nan],\n",
       "       ['Germany', nan, 65119.0],\n",
       "       ['Germany', 46.0, nan],\n",
       "       ['Spain', nan, 75031.0],\n",
       "       ['France', 59.0, nan],\n",
       "       ['Germany', 45.0, nan],\n",
       "       ['France', nan, nan],\n",
       "       ['Germany', 59.0, nan],\n",
       "       ['Spain', nan, nan],\n",
       "       ['Germany', 48.0, 53253.0],\n",
       "       ['Spain', 44.0, 53523.0],\n",
       "       ['France', 38.0, nan],\n",
       "       ['Germany', nan, 89610.0],\n",
       "       ['Spain', nan, 72282.0],\n",
       "       ['Germany', 59.0, 59932.0],\n",
       "       ['France', nan, 59157.0],\n",
       "       ['France', 51.0, nan],\n",
       "       ['Germany', 39.0, 83734.0],\n",
       "       ['Germany', nan, 54558.0],\n",
       "       ['Spain', 53.0, 47766.0],\n",
       "       ['Germany', nan, nan],\n",
       "       ['Spain', nan, 64754.0],\n",
       "       ['France', 32.0, nan],\n",
       "       ['Spain', 27.0, 48000.0],\n",
       "       ['Spain', nan, nan],\n",
       "       ['Spain', 34.0, nan],\n",
       "       ['Spain', nan, 70693.0],\n",
       "       ['France', nan, 46597.0],\n",
       "       ['France', 25.0, 78461.0],\n",
       "       ['Germany', nan, nan],\n",
       "       ['France', 40.0, nan],\n",
       "       ['Spain', nan, 66093.0],\n",
       "       ['Spain', nan, 80285.0],\n",
       "       ['Spain', 58.0, 41523.0],\n",
       "       ['Spain', nan, nan],\n",
       "       ['France', nan, 81577.0],\n",
       "       ['Germany', nan, 69546.0],\n",
       "       ['Spain', nan, 59835.0],\n",
       "       ['Germany', nan, 45678.0],\n",
       "       ['Germany', 34.0, nan],\n",
       "       ['Germany', nan, nan],\n",
       "       ['France', 51.0, nan],\n",
       "       ['France', nan, 79642.0]], dtype=object)"
      ]
     },
     "execution_count": 24,
     "metadata": {},
     "output_type": "execute_result"
    }
   ],
   "source": [
    "X"
   ]
  },
  {
   "cell_type": "markdown",
   "metadata": {},
   "source": [
    "## Dealing with Missing Values"
   ]
  },
  {
   "cell_type": "code",
   "execution_count": null,
   "metadata": {},
   "outputs": [
    {
     "data": {
      "text/plain": [
       "np.int64(187)"
      ]
     },
     "execution_count": 28,
     "metadata": {},
     "output_type": "execute_result"
    }
   ],
   "source": [
    "# looking at number of missing values \n",
    "# note that the dtype is object - first convert it to float \n",
    "\n",
    "numeric_arr = X[:,[1,2]].astype('float')\n",
    "np.sum(np.isnan(numeric_arr)) # total missing values "
   ]
  },
  {
   "cell_type": "code",
   "execution_count": 29,
   "metadata": {},
   "outputs": [],
   "source": [
    "# import necessary libraries \n",
    "from sklearn.impute import SimpleImputer\n",
    "\n",
    "# Note, however, that while doing ML models first divide the dataset into train and test set and the do imputation\n",
    "\n",
    "# create a instance of SimpleImputer class\n",
    "imputer = SimpleImputer(missing_values=np.nan,\n",
    "                        strategy='mean')\n",
    "\n",
    "# fit and transform on the dataset (only include the numeric columns)\n",
    "X[:,[1,2]] =  imputer.fit_transform(X=numeric_arr)"
   ]
  },
  {
   "cell_type": "code",
   "execution_count": 34,
   "metadata": {},
   "outputs": [
    {
     "data": {
      "text/plain": [
       "np.int64(0)"
      ]
     },
     "execution_count": 34,
     "metadata": {},
     "output_type": "execute_result"
    }
   ],
   "source": [
    "numeric_arr = X[:,[1,2]].astype('float')\n",
    "np.sum(np.isnan(numeric_arr)) # total missing values "
   ]
  },
  {
   "cell_type": "code",
   "execution_count": 39,
   "metadata": {},
   "outputs": [
    {
     "name": "stdout",
     "output_type": "stream",
     "text": [
      "Imputation values: [4.16636364e+01 6.46245825e+04]\n"
     ]
    }
   ],
   "source": [
    "# Retrieve the values used for imputation\n",
    "print(\"Imputation values:\", imputer.statistics_)"
   ]
  },
  {
   "cell_type": "markdown",
   "metadata": {},
   "source": [
    "## One Hot Encoding - Transforming Categorical Variables "
   ]
  },
  {
   "cell_type": "code",
   "execution_count": null,
   "metadata": {},
   "outputs": [
    {
     "data": {
      "text/plain": [
       "array(['France', 'Germany', 'Spain'], dtype=object)"
      ]
     },
     "execution_count": 42,
     "metadata": {},
     "output_type": "execute_result"
    }
   ],
   "source": [
    "# number of unique values in the Country columns \n",
    "np.unique(X[:,0])"
   ]
  },
  {
   "cell_type": "code",
   "execution_count": null,
   "metadata": {},
   "outputs": [],
   "source": [
    "# import necessary libraries \n",
    "from sklearn.compose import ColumnTransformer\n",
    "from sklearn.preprocessing import OneHotEncoder\n",
    "\n",
    "# create the ColumnTransformer object \n",
    "ct = ColumnTransformer(\n",
    "    transformers=[('encoder', OneHotEncoder(), [0])],\n",
    "    remainder='passthrough'\n",
    ")\n",
    "\n",
    "# fit and transform X and convert it to a numpy array (important for ML)\n",
    "X = np.array(ct.fit_transform(X=X))"
   ]
  },
  {
   "cell_type": "code",
   "execution_count": 47,
   "metadata": {},
   "outputs": [
    {
     "data": {
      "text/plain": [
       "array([[0.0, 1.0, 0.0, 41.663636363636364, 64624.58252427184],\n",
       "       [0.0, 1.0, 0.0, 41.663636363636364, 64624.58252427184],\n",
       "       [0.0, 1.0, 0.0, 43.0, 67611.0],\n",
       "       [0.0, 1.0, 0.0, 37.0, 64624.58252427184],\n",
       "       [0.0, 0.0, 1.0, 55.0, 64624.58252427184],\n",
       "       [0.0, 0.0, 1.0, 25.0, 58058.0],\n",
       "       [0.0, 0.0, 1.0, 40.0, 62617.0],\n",
       "       [1.0, 0.0, 0.0, 36.0, 64624.58252427184],\n",
       "       [0.0, 0.0, 1.0, 41.663636363636364, 64624.58252427184],\n",
       "       [0.0, 0.0, 1.0, 41.663636363636364, 42394.0],\n",
       "       [0.0, 1.0, 0.0, 41.663636363636364, 64624.58252427184],\n",
       "       [1.0, 0.0, 0.0, 41.663636363636364, 64624.58252427184],\n",
       "       [1.0, 0.0, 0.0, 50.0, 61711.0],\n",
       "       [0.0, 1.0, 0.0, 41.663636363636364, 64624.58252427184],\n",
       "       [1.0, 0.0, 0.0, 59.0, 47686.0],\n",
       "       [1.0, 0.0, 0.0, 41.663636363636364, 41322.0],\n",
       "       [1.0, 0.0, 0.0, 33.0, 82755.0],\n",
       "       [0.0, 1.0, 0.0, 37.0, 64624.58252427184],\n",
       "       [0.0, 0.0, 1.0, 41.663636363636364, 64624.58252427184],\n",
       "       [0.0, 1.0, 0.0, 58.0, 64624.58252427184],\n",
       "       [0.0, 0.0, 1.0, 35.0, 64624.58252427184],\n",
       "       [0.0, 1.0, 0.0, 54.0, 64624.58252427184],\n",
       "       [0.0, 1.0, 0.0, 41.0, 82872.0],\n",
       "       [0.0, 1.0, 0.0, 35.0, 81562.0],\n",
       "       [0.0, 1.0, 0.0, 41.663636363636364, 80776.0],\n",
       "       [1.0, 0.0, 0.0, 41.663636363636364, 64624.58252427184],\n",
       "       [0.0, 0.0, 1.0, 41.663636363636364, 64624.58252427184],\n",
       "       [1.0, 0.0, 0.0, 57.0, 48931.0],\n",
       "       [1.0, 0.0, 0.0, 60.0, 63567.0],\n",
       "       [1.0, 0.0, 0.0, 32.0, 51600.0],\n",
       "       [1.0, 0.0, 0.0, 37.0, 67000.0],\n",
       "       [1.0, 0.0, 0.0, 41.663636363636364, 64624.58252427184],\n",
       "       [1.0, 0.0, 0.0, 27.0, 54332.0],\n",
       "       [0.0, 1.0, 0.0, 41.663636363636364, 58736.0],\n",
       "       [1.0, 0.0, 0.0, 25.0, 83397.0],\n",
       "       [0.0, 1.0, 0.0, 34.0, 62520.0],\n",
       "       [1.0, 0.0, 0.0, 30.0, 64624.58252427184],\n",
       "       [1.0, 0.0, 0.0, 41.663636363636364, 62132.0],\n",
       "       [0.0, 1.0, 0.0, 41.663636363636364, 64624.58252427184],\n",
       "       [0.0, 0.0, 1.0, 41.663636363636364, 64624.58252427184],\n",
       "       [0.0, 0.0, 1.0, 41.663636363636364, 50560.0],\n",
       "       [0.0, 1.0, 0.0, 59.0, 64624.58252427184],\n",
       "       [0.0, 0.0, 1.0, 41.663636363636364, 43369.0],\n",
       "       [0.0, 1.0, 0.0, 47.0, 64624.58252427184],\n",
       "       [0.0, 0.0, 1.0, 54.0, 64624.58252427184],\n",
       "       [0.0, 0.0, 1.0, 31.0, 64624.58252427184],\n",
       "       [0.0, 0.0, 1.0, 41.663636363636364, 86787.0],\n",
       "       [0.0, 1.0, 0.0, 41.663636363636364, 74671.0],\n",
       "       [0.0, 0.0, 1.0, 41.663636363636364, 64624.58252427184],\n",
       "       [1.0, 0.0, 0.0, 41.663636363636364, 49154.0],\n",
       "       [1.0, 0.0, 0.0, 41.663636363636364, 81400.0],\n",
       "       [1.0, 0.0, 0.0, 45.0, 64624.58252427184],\n",
       "       [1.0, 0.0, 0.0, 35.0, 58000.0],\n",
       "       [1.0, 0.0, 0.0, 38.0, 64624.58252427184],\n",
       "       [0.0, 1.0, 0.0, 35.0, 86160.0],\n",
       "       [0.0, 1.0, 0.0, 41.663636363636364, 64624.58252427184],\n",
       "       [0.0, 1.0, 0.0, 33.0, 64624.58252427184],\n",
       "       [1.0, 0.0, 0.0, 56.0, 64624.58252427184],\n",
       "       [0.0, 0.0, 1.0, 48.0, 64624.58252427184],\n",
       "       [0.0, 1.0, 0.0, 41.663636363636364, 52198.0],\n",
       "       [1.0, 0.0, 0.0, 41.663636363636364, 50147.0],\n",
       "       [0.0, 0.0, 1.0, 41.663636363636364, 87085.0],\n",
       "       [1.0, 0.0, 0.0, 41.663636363636364, 42176.0],\n",
       "       [0.0, 1.0, 0.0, 25.0, 77241.0],\n",
       "       [0.0, 1.0, 0.0, 41.663636363636364, 64624.58252427184],\n",
       "       [0.0, 1.0, 0.0, 41.663636363636364, 64624.58252427184],\n",
       "       [1.0, 0.0, 0.0, 41.663636363636364, 77015.0],\n",
       "       [0.0, 1.0, 0.0, 44.0, 51201.0],\n",
       "       [0.0, 1.0, 0.0, 31.0, 73369.0],\n",
       "       [1.0, 0.0, 0.0, 41.663636363636364, 64624.58252427184],\n",
       "       [0.0, 1.0, 0.0, 29.0, 64624.58252427184],\n",
       "       [0.0, 1.0, 0.0, 44.0, 64624.58252427184],\n",
       "       [0.0, 1.0, 0.0, 43.0, 82774.0],\n",
       "       [0.0, 0.0, 1.0, 41.663636363636364, 47193.0],\n",
       "       [0.0, 0.0, 1.0, 45.0, 64624.58252427184],\n",
       "       [0.0, 0.0, 1.0, 41.663636363636364, 47672.0],\n",
       "       [0.0, 0.0, 1.0, 55.0, 61809.0],\n",
       "       [1.0, 0.0, 0.0, 55.0, 53139.0],\n",
       "       [0.0, 1.0, 0.0, 37.0, 64624.58252427184],\n",
       "       [0.0, 0.0, 1.0, 41.663636363636364, 85440.0],\n",
       "       [0.0, 1.0, 0.0, 30.0, 54000.0],\n",
       "       [0.0, 1.0, 0.0, 40.0, 64624.58252427184],\n",
       "       [0.0, 0.0, 1.0, 31.0, 76556.0],\n",
       "       [0.0, 1.0, 0.0, 41.663636363636364, 64624.58252427184],\n",
       "       [1.0, 0.0, 0.0, 41.663636363636364, 63807.0],\n",
       "       [1.0, 0.0, 0.0, 41.663636363636364, 64624.58252427184],\n",
       "       [1.0, 0.0, 0.0, 52.0, 60955.0],\n",
       "       [1.0, 0.0, 0.0, 48.0, 49122.0],\n",
       "       [1.0, 0.0, 0.0, 31.0, 75310.0],\n",
       "       [1.0, 0.0, 0.0, 27.0, 64624.58252427184],\n",
       "       [0.0, 1.0, 0.0, 52.0, 64624.58252427184],\n",
       "       [1.0, 0.0, 0.0, 44.0, 52943.0],\n",
       "       [1.0, 0.0, 0.0, 41.663636363636364, 64624.58252427184],\n",
       "       [0.0, 1.0, 0.0, 35.0, 64624.58252427184],\n",
       "       [0.0, 1.0, 0.0, 41.663636363636364, 41121.0],\n",
       "       [1.0, 0.0, 0.0, 41.663636363636364, 78776.0],\n",
       "       [0.0, 0.0, 1.0, 41.663636363636364, 59917.0],\n",
       "       [0.0, 0.0, 1.0, 41.663636363636364, 52000.0],\n",
       "       [1.0, 0.0, 0.0, 32.0, 64624.58252427184],\n",
       "       [1.0, 0.0, 0.0, 41.663636363636364, 64624.58252427184],\n",
       "       [0.0, 1.0, 0.0, 40.0, 64624.58252427184],\n",
       "       [0.0, 1.0, 0.0, 25.0, 64624.58252427184],\n",
       "       [0.0, 1.0, 0.0, 47.0, 64624.58252427184],\n",
       "       [0.0, 1.0, 0.0, 32.0, 64624.58252427184],\n",
       "       [1.0, 0.0, 0.0, 41.663636363636364, 64624.58252427184],\n",
       "       [0.0, 1.0, 0.0, 41.663636363636364, 70813.0],\n",
       "       [1.0, 0.0, 0.0, 41.663636363636364, 64624.58252427184],\n",
       "       [0.0, 1.0, 0.0, 55.0, 82324.0],\n",
       "       [0.0, 0.0, 1.0, 41.663636363636364, 64624.58252427184],\n",
       "       [0.0, 0.0, 1.0, 26.0, 77940.0],\n",
       "       [0.0, 0.0, 1.0, 45.0, 64624.58252427184],\n",
       "       [1.0, 0.0, 0.0, 44.0, 72000.0],\n",
       "       [0.0, 1.0, 0.0, 41.663636363636364, 64624.58252427184],\n",
       "       [0.0, 0.0, 1.0, 38.0, 64624.58252427184],\n",
       "       [0.0, 0.0, 1.0, 42.0, 67795.0],\n",
       "       [1.0, 0.0, 0.0, 44.0, 61248.0],\n",
       "       [0.0, 0.0, 1.0, 58.0, 61710.0],\n",
       "       [0.0, 1.0, 0.0, 25.0, 64624.58252427184],\n",
       "       [0.0, 1.0, 0.0, 41.663636363636364, 64624.58252427184],\n",
       "       [1.0, 0.0, 0.0, 58.0, 64624.58252427184],\n",
       "       [0.0, 0.0, 1.0, 41.663636363636364, 50679.0],\n",
       "       [0.0, 0.0, 1.0, 39.0, 64624.58252427184],\n",
       "       [1.0, 0.0, 0.0, 30.0, 62101.0],\n",
       "       [0.0, 1.0, 0.0, 35.0, 64624.58252427184],\n",
       "       [1.0, 0.0, 0.0, 41.663636363636364, 66211.0],\n",
       "       [0.0, 1.0, 0.0, 26.0, 61877.0],\n",
       "       [0.0, 1.0, 0.0, 41.663636363636364, 64624.58252427184],\n",
       "       [0.0, 1.0, 0.0, 26.0, 70977.0],\n",
       "       [0.0, 0.0, 1.0, 54.0, 59168.0],\n",
       "       [0.0, 0.0, 1.0, 50.0, 64624.58252427184],\n",
       "       [0.0, 0.0, 1.0, 46.0, 65378.0],\n",
       "       [0.0, 0.0, 1.0, 41.663636363636364, 80469.0],\n",
       "       [0.0, 1.0, 0.0, 45.0, 64624.58252427184],\n",
       "       [0.0, 0.0, 1.0, 53.0, 64624.58252427184],\n",
       "       [1.0, 0.0, 0.0, 41.663636363636364, 67608.0],\n",
       "       [0.0, 1.0, 0.0, 41.663636363636364, 57451.0],\n",
       "       [0.0, 0.0, 1.0, 38.0, 61000.0],\n",
       "       [0.0, 1.0, 0.0, 41.663636363636364, 64624.58252427184],\n",
       "       [0.0, 0.0, 1.0, 51.0, 62477.0],\n",
       "       [1.0, 0.0, 0.0, 25.0, 64624.58252427184],\n",
       "       [1.0, 0.0, 0.0, 33.0, 79552.0],\n",
       "       [0.0, 0.0, 1.0, 41.663636363636364, 64624.58252427184],\n",
       "       [0.0, 1.0, 0.0, 42.0, 64624.58252427184],\n",
       "       [0.0, 0.0, 1.0, 41.663636363636364, 64624.58252427184],\n",
       "       [0.0, 0.0, 1.0, 41.663636363636364, 64624.58252427184],\n",
       "       [0.0, 1.0, 0.0, 41.663636363636364, 56052.0],\n",
       "       [1.0, 0.0, 0.0, 48.0, 79000.0],\n",
       "       [0.0, 0.0, 1.0, 41.663636363636364, 64624.58252427184],\n",
       "       [1.0, 0.0, 0.0, 41.663636363636364, 64624.58252427184],\n",
       "       [0.0, 0.0, 1.0, 53.0, 64624.58252427184],\n",
       "       [0.0, 0.0, 1.0, 41.663636363636364, 61390.0],\n",
       "       [0.0, 0.0, 1.0, 35.0, 64624.58252427184],\n",
       "       [0.0, 0.0, 1.0, 46.0, 64624.58252427184],\n",
       "       [0.0, 1.0, 0.0, 50.0, 83000.0],\n",
       "       [0.0, 1.0, 0.0, 54.0, 85983.0],\n",
       "       [1.0, 0.0, 0.0, 41.663636363636364, 60834.0],\n",
       "       [0.0, 1.0, 0.0, 41.663636363636364, 64624.58252427184],\n",
       "       [1.0, 0.0, 0.0, 32.0, 64624.58252427184],\n",
       "       [0.0, 1.0, 0.0, 41.663636363636364, 65119.0],\n",
       "       [0.0, 1.0, 0.0, 46.0, 64624.58252427184],\n",
       "       [0.0, 0.0, 1.0, 41.663636363636364, 75031.0],\n",
       "       [1.0, 0.0, 0.0, 59.0, 64624.58252427184],\n",
       "       [0.0, 1.0, 0.0, 45.0, 64624.58252427184],\n",
       "       [1.0, 0.0, 0.0, 41.663636363636364, 64624.58252427184],\n",
       "       [0.0, 1.0, 0.0, 59.0, 64624.58252427184],\n",
       "       [0.0, 0.0, 1.0, 41.663636363636364, 64624.58252427184],\n",
       "       [0.0, 1.0, 0.0, 48.0, 53253.0],\n",
       "       [0.0, 0.0, 1.0, 44.0, 53523.0],\n",
       "       [1.0, 0.0, 0.0, 38.0, 64624.58252427184],\n",
       "       [0.0, 1.0, 0.0, 41.663636363636364, 89610.0],\n",
       "       [0.0, 0.0, 1.0, 41.663636363636364, 72282.0],\n",
       "       [0.0, 1.0, 0.0, 59.0, 59932.0],\n",
       "       [1.0, 0.0, 0.0, 41.663636363636364, 59157.0],\n",
       "       [1.0, 0.0, 0.0, 51.0, 64624.58252427184],\n",
       "       [0.0, 1.0, 0.0, 39.0, 83734.0],\n",
       "       [0.0, 1.0, 0.0, 41.663636363636364, 54558.0],\n",
       "       [0.0, 0.0, 1.0, 53.0, 47766.0],\n",
       "       [0.0, 1.0, 0.0, 41.663636363636364, 64624.58252427184],\n",
       "       [0.0, 0.0, 1.0, 41.663636363636364, 64754.0],\n",
       "       [1.0, 0.0, 0.0, 32.0, 64624.58252427184],\n",
       "       [0.0, 0.0, 1.0, 27.0, 48000.0],\n",
       "       [0.0, 0.0, 1.0, 41.663636363636364, 64624.58252427184],\n",
       "       [0.0, 0.0, 1.0, 34.0, 64624.58252427184],\n",
       "       [0.0, 0.0, 1.0, 41.663636363636364, 70693.0],\n",
       "       [1.0, 0.0, 0.0, 41.663636363636364, 46597.0],\n",
       "       [1.0, 0.0, 0.0, 25.0, 78461.0],\n",
       "       [0.0, 1.0, 0.0, 41.663636363636364, 64624.58252427184],\n",
       "       [1.0, 0.0, 0.0, 40.0, 64624.58252427184],\n",
       "       [0.0, 0.0, 1.0, 41.663636363636364, 66093.0],\n",
       "       [0.0, 0.0, 1.0, 41.663636363636364, 80285.0],\n",
       "       [0.0, 0.0, 1.0, 58.0, 41523.0],\n",
       "       [0.0, 0.0, 1.0, 41.663636363636364, 64624.58252427184],\n",
       "       [1.0, 0.0, 0.0, 41.663636363636364, 81577.0],\n",
       "       [0.0, 1.0, 0.0, 41.663636363636364, 69546.0],\n",
       "       [0.0, 0.0, 1.0, 41.663636363636364, 59835.0],\n",
       "       [0.0, 1.0, 0.0, 41.663636363636364, 45678.0],\n",
       "       [0.0, 1.0, 0.0, 34.0, 64624.58252427184],\n",
       "       [0.0, 1.0, 0.0, 41.663636363636364, 64624.58252427184],\n",
       "       [1.0, 0.0, 0.0, 51.0, 64624.58252427184],\n",
       "       [1.0, 0.0, 0.0, 41.663636363636364, 79642.0]], dtype=object)"
      ]
     },
     "execution_count": 47,
     "metadata": {},
     "output_type": "execute_result"
    }
   ],
   "source": [
    "X"
   ]
  },
  {
   "cell_type": "code",
   "execution_count": 48,
   "metadata": {},
   "outputs": [
    {
     "data": {
      "text/plain": [
       "array([0, 1, 1, 1, 1, 0, 0, 0, 1, 1, 0, 0, 1, 1, 0, 1, 1, 0, 0, 0, 0, 0,\n",
       "       0, 1, 0, 0, 0, 0, 1, 0, 1, 1, 0, 1, 0, 1, 1, 1, 0, 0, 1, 1, 0, 0,\n",
       "       0, 0, 1, 0, 1, 0, 1, 1, 1, 1, 1, 0, 0, 0, 0, 1, 1, 0, 0, 0, 1, 1,\n",
       "       1, 1, 0, 1, 0, 0, 1, 1, 0, 1, 1, 1, 0, 0, 0, 0, 1, 0, 0, 1, 1, 1,\n",
       "       1, 1, 1, 1, 1, 1, 0, 0, 0, 0, 1, 0, 1, 1, 0, 0, 1, 0, 1, 0, 1, 1,\n",
       "       0, 0, 1, 1, 0, 0, 1, 1, 1, 0, 0, 1, 1, 0, 1, 0, 0, 0, 0, 1, 0, 0,\n",
       "       1, 1, 0, 0, 0, 0, 1, 0, 1, 0, 0, 1, 0, 0, 1, 0, 0, 1, 1, 0, 1, 0,\n",
       "       1, 1, 0, 1, 0, 1, 1, 1, 0, 0, 1, 1, 1, 0, 0, 0, 0, 0, 1, 1, 0, 0,\n",
       "       0, 0, 1, 1, 1, 0, 0, 0, 1, 0, 1, 1, 1, 1, 1, 1, 1, 0, 0, 0, 0, 0,\n",
       "       1, 0])"
      ]
     },
     "execution_count": 48,
     "metadata": {},
     "output_type": "execute_result"
    }
   ],
   "source": [
    "# using LabelEncoder for the dependent variable \n",
    "from sklearn.preprocessing import LabelEncoder\n",
    "\n",
    "le = LabelEncoder()\n",
    "y = le.fit_transform(y)\n",
    "\n",
    "y"
   ]
  },
  {
   "cell_type": "markdown",
   "metadata": {},
   "source": [
    "## Splitting the set into Train and Test Set"
   ]
  },
  {
   "cell_type": "code",
   "execution_count": 49,
   "metadata": {},
   "outputs": [
    {
     "data": {
      "text/plain": [
       "((160, 5), (40, 5), (160,), (40,))"
      ]
     },
     "execution_count": 49,
     "metadata": {},
     "output_type": "execute_result"
    }
   ],
   "source": [
    "from sklearn.model_selection import train_test_split\n",
    "\n",
    "X_train, X_test, y_train, y_test = train_test_split(X, y, test_size=0.2, shuffle=True,\n",
    "                                                    random_state=42)\n",
    "\n",
    "X_train.shape, X_test.shape, y_train.shape, y_test.shape"
   ]
  },
  {
   "cell_type": "markdown",
   "metadata": {},
   "source": [
    "## Feature Scaling"
   ]
  },
  {
   "cell_type": "code",
   "execution_count": 54,
   "metadata": {},
   "outputs": [],
   "source": [
    "from sklearn.preprocessing import StandardScaler\n",
    "\n",
    "# create an object of the class \n",
    "sc = StandardScaler()\n",
    "\n",
    "# fit only on the train set and baseds on that transform train and test set\n",
    "# donot apply Standardization on the dummy variables \n",
    "\n",
    "X_train[:,3:] = sc.fit_transform(X_train[:,3:])\n",
    "X_test[:,3:] = sc.transform(X_test[:,3:])"
   ]
  }
 ],
 "metadata": {
  "kernelspec": {
   "display_name": "Python 3",
   "language": "python",
   "name": "python3"
  },
  "language_info": {
   "codemirror_mode": {
    "name": "ipython",
    "version": 3
   },
   "file_extension": ".py",
   "mimetype": "text/x-python",
   "name": "python",
   "nbconvert_exporter": "python",
   "pygments_lexer": "ipython3",
   "version": "3.13.2"
  }
 },
 "nbformat": 4,
 "nbformat_minor": 2
}
